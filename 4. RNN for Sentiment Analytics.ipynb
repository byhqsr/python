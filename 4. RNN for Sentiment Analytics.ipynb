{
  "nbformat": 4,
  "nbformat_minor": 0,
  "metadata": {
    "accelerator": "GPU",
    "colab": {
      "name": "4. RNN for Sentiment Analytics.ipynb",
      "provenance": [],
      "toc_visible": true
    },
    "kernelspec": {
      "display_name": "Python 3",
      "language": "python",
      "name": "python3"
    },
    "language_info": {
      "codemirror_mode": {
        "name": "ipython",
        "version": 3
      },
      "file_extension": ".py",
      "mimetype": "text/x-python",
      "name": "python",
      "nbconvert_exporter": "python",
      "pygments_lexer": "ipython3",
      "version": "3.6.6"
    }
  },
  "cells": [
    {
      "cell_type": "code",
      "metadata": {
        "id": "HgKhs7TWPwCv",
        "colab_type": "code",
        "colab": {}
      },
      "source": [
        "%tensorflow_version 1.15"
      ],
      "execution_count": null,
      "outputs": []
    },
    {
      "cell_type": "markdown",
      "metadata": {
        "colab_type": "text",
        "id": "BdgkdBQJHpaz"
      },
      "source": [
        "# Recurrent Neural Network: Airline Sentiment"
      ]
    },
    {
      "cell_type": "markdown",
      "metadata": {
        "colab_type": "text",
        "id": "pu792gNaECZG"
      },
      "source": [
        "## Import depedencies"
      ]
    },
    {
      "cell_type": "code",
      "metadata": {
        "colab_type": "code",
        "id": "SHFoH80HyPxj",
        "colab": {}
      },
      "source": [
        "from tensorflow.keras.models import Sequential\n",
        "from tensorflow.keras.layers import Dense, LSTM, Embedding\n",
        "from tensorflow.keras.optimizers import Adam\n",
        "from tensorflow.keras.preprocessing.text import Tokenizer\n",
        "from tensorflow.keras.preprocessing.sequence import pad_sequences\n",
        "\n",
        "from sklearn.model_selection import train_test_split\n",
        "import pandas as pd\n",
        "import numpy as np"
      ],
      "execution_count": null,
      "outputs": []
    },
    {
      "cell_type": "markdown",
      "metadata": {
        "colab_type": "text",
        "id": "uk2VicYLEVgV"
      },
      "source": [
        "## Data preprocessing"
      ]
    },
    {
      "cell_type": "markdown",
      "metadata": {
        "colab_type": "text",
        "id": "kpLPxSaxp9WZ"
      },
      "source": [
        "### Get dataset"
      ]
    },
    {
      "cell_type": "code",
      "metadata": {
        "colab_type": "code",
        "id": "9p8OKxwaoT6S",
        "colab": {}
      },
      "source": [
        "!wget 'https://raw.githubusercontent.com/fahmisalman/Sentiment-Analytics/master/dataset/Tweets.csv'"
      ],
      "execution_count": null,
      "outputs": []
    },
    {
      "cell_type": "markdown",
      "metadata": {
        "colab_type": "text",
        "id": "fUVpu-fYqJvq"
      },
      "source": [
        "### Load dataset"
      ]
    },
    {
      "cell_type": "code",
      "metadata": {
        "colab_type": "code",
        "id": "YRbsOl0DHr6c",
        "colab": {}
      },
      "source": [
        "df = pd.read_csv('Tweets.csv')"
      ],
      "execution_count": null,
      "outputs": []
    },
    {
      "cell_type": "code",
      "metadata": {
        "colab_type": "code",
        "id": "JEkj82DsHv0a",
        "colab": {}
      },
      "source": [
        "# Show top-5 row in dataset\n",
        "df.head()"
      ],
      "execution_count": null,
      "outputs": []
    },
    {
      "cell_type": "code",
      "metadata": {
        "colab_type": "code",
        "id": "KcSm07-UIU1w",
        "colab": {}
      },
      "source": [
        "# define column and class\n",
        "text = df['text']\n",
        "label = df['airline_sentiment']\n",
        "\n",
        "global class_label\n",
        "class_label = ['positive', 'neutral', 'negative']"
      ],
      "execution_count": null,
      "outputs": []
    },
    {
      "cell_type": "code",
      "metadata": {
        "colab_type": "code",
        "id": "j6m5TYnsL-Qf",
        "colab": {}
      },
      "source": [
        "# Split dataset to train data and test data\n",
        "X_train, X_test, y_train, y_test = train_test_split(text, label, test_size=0.3, random_state=1, stratify=label)"
      ],
      "execution_count": null,
      "outputs": []
    },
    {
      "cell_type": "code",
      "metadata": {
        "colab_type": "code",
        "id": "8hNNRLOcQHj-",
        "colab": {}
      },
      "source": [
        "# displays the contents of the first text\n",
        "X_train[0]"
      ],
      "execution_count": null,
      "outputs": []
    },
    {
      "cell_type": "code",
      "metadata": {
        "colab_type": "code",
        "id": "vuMk8CV-EgnL",
        "colab": {}
      },
      "source": [
        "# displays the contents of the first class\n",
        "y_train[0]"
      ],
      "execution_count": null,
      "outputs": []
    },
    {
      "cell_type": "markdown",
      "metadata": {
        "colab_type": "text",
        "id": "u0Fm6hA6qg9A"
      },
      "source": [
        "### Tokenizer"
      ]
    },
    {
      "cell_type": "code",
      "metadata": {
        "colab_type": "code",
        "id": "s7yXoQVUIb31",
        "colab": {}
      },
      "source": [
        "# Convert sentence into tokens\n",
        "num_words = 10000\n",
        "tokenizer = Tokenizer(num_words=num_words)\n",
        "tokenizer.fit_on_texts(text)"
      ],
      "execution_count": null,
      "outputs": []
    },
    {
      "cell_type": "code",
      "metadata": {
        "colab_type": "code",
        "id": "NbvGmsHuIjeE",
        "colab": {}
      },
      "source": [
        "x_train_tokens = tokenizer.texts_to_sequences(X_train)"
      ],
      "execution_count": null,
      "outputs": []
    },
    {
      "cell_type": "code",
      "metadata": {
        "colab_type": "code",
        "id": "ninuiP1jFaO-",
        "colab": {}
      },
      "source": [
        "x_train_tokens[0]"
      ],
      "execution_count": null,
      "outputs": []
    },
    {
      "cell_type": "code",
      "metadata": {
        "id": "IdQcRNL6Lkw5",
        "colab_type": "code",
        "colab": {}
      },
      "source": [
        "[0, 0, 0, 0, 0, 0, ..., 1, 0, 0, 0, 0, ..., 0]"
      ],
      "execution_count": null,
      "outputs": []
    },
    {
      "cell_type": "code",
      "metadata": {
        "colab_type": "code",
        "id": "DWFQkcy7Gtmx",
        "colab": {}
      },
      "source": [
        "# displays the word for each token in the first sentence\n",
        "reverse_word_map = dict(map(reversed, tokenizer.word_index.items()))\n",
        "\n",
        "def sequence_to_text(list_of_indices):\n",
        "  # Looking up words in dictionary\n",
        "  words = [reverse_word_map.get(letter) for letter in list_of_indices]\n",
        "  return(words)\n",
        "\n",
        "sequence_to_text(x_train_tokens[0])"
      ],
      "execution_count": null,
      "outputs": []
    },
    {
      "cell_type": "code",
      "metadata": {
        "colab_type": "code",
        "id": "uJJiSuuWPn7V",
        "colab": {}
      },
      "source": [
        "# Maximum words in one sentence in the training data\n",
        "print('Maximum review length: {}'.format(\n",
        "len(max(x_train_tokens, key=len))))\n",
        "\n",
        "# Minimum words in one sentence in the training data\n",
        "print('Minimum review length: {}'.format(\n",
        "len(min(x_train_tokens, key=len))))"
      ],
      "execution_count": null,
      "outputs": []
    },
    {
      "cell_type": "code",
      "metadata": {
        "colab_type": "code",
        "id": "Qrmnt4ogPy5C",
        "colab": {}
      },
      "source": [
        "# give padding for each sentence so that it has the same token length\n",
        "x_train_tokens = pad_sequences(x_train_tokens, maxlen=100, padding='pre', truncating='pre')"
      ],
      "execution_count": null,
      "outputs": []
    },
    {
      "cell_type": "code",
      "metadata": {
        "colab_type": "code",
        "id": "CPmrw4KHQKba",
        "colab": {}
      },
      "source": [
        "x_train_tokens[0]"
      ],
      "execution_count": null,
      "outputs": []
    },
    {
      "cell_type": "markdown",
      "metadata": {
        "colab_type": "text",
        "id": "oGE8RqiXsdOA"
      },
      "source": [
        "### One hot encoder"
      ]
    },
    {
      "cell_type": "code",
      "metadata": {
        "colab_type": "code",
        "id": "DSHVyCWUJJHw",
        "colab": {}
      },
      "source": [
        "def one_hot_encoder(y):\n",
        "  label = np.zeros([len(y), len(class_label)])\n",
        "  for i in range(len(y)):\n",
        "      label[i][class_label.index(y[i])] = 1\n",
        "  return label"
      ],
      "execution_count": null,
      "outputs": []
    },
    {
      "cell_type": "code",
      "metadata": {
        "id": "SN6iKw0fOipl",
        "colab_type": "code",
        "colab": {}
      },
      "source": [
        "list(y_train)[0]"
      ],
      "execution_count": null,
      "outputs": []
    },
    {
      "cell_type": "code",
      "metadata": {
        "colab_type": "code",
        "id": "TF3G6CXzJOfv",
        "colab": {}
      },
      "source": [
        "y_train_encoder = one_hot_encoder(list(y_train))\n",
        "y_train_encoder[0]"
      ],
      "execution_count": null,
      "outputs": []
    },
    {
      "cell_type": "markdown",
      "metadata": {
        "colab_type": "text",
        "id": "ufZa_N-ZtDWp"
      },
      "source": [
        "## Build the model"
      ]
    },
    {
      "cell_type": "markdown",
      "metadata": {
        "colab_type": "text",
        "id": "_fW_ZKDi3n5g"
      },
      "source": [
        "![alt text](https://upload.wikimedia.org/wikipedia/commons/thumb/6/63/Long_Short-Term_Memory.svg/1920px-Long_Short-Term_Memory.svg.png)\n",
        "\n",
        "Long Short Term Memory architecture\n",
        "\n",
        "Source: https://en.wikipedia.org/wiki/Recurrent_neural_network"
      ]
    },
    {
      "cell_type": "markdown",
      "metadata": {
        "colab_type": "text",
        "id": "8QvRCsuttKUT"
      },
      "source": [
        "### Define the model"
      ]
    },
    {
      "cell_type": "code",
      "metadata": {
        "colab_type": "code",
        "id": "ozmgrSM3IvHR",
        "colab": {}
      },
      "source": [
        "model = Sequential()\n",
        "max_tokens = 100\n",
        "embedding_size = 250\n",
        "model.add(Embedding(input_dim=num_words,\n",
        "                    output_dim=embedding_size,\n",
        "                    input_length=max_tokens,\n",
        "                    name='Embedding_layer'))\n",
        "model.add(LSTM(units=16, name='LSTM_layer'))\n",
        "model.add(Dense(3, activation='softmax', name='Output_layer'))\n",
        "model.compile(loss='binary_crossentropy',\n",
        "              optimizer='adam',\n",
        "              metrics=['accuracy'])\n",
        "y_train_encoder = np.array(y_train_encoder)"
      ],
      "execution_count": null,
      "outputs": []
    },
    {
      "cell_type": "code",
      "metadata": {
        "colab_type": "code",
        "id": "qx-kPSKjVreH",
        "colab": {}
      },
      "source": [
        "model.summary()"
      ],
      "execution_count": null,
      "outputs": []
    },
    {
      "cell_type": "markdown",
      "metadata": {
        "colab_type": "text",
        "id": "mQX91sIUtPs4"
      },
      "source": [
        "### Fitting model"
      ]
    },
    {
      "cell_type": "code",
      "metadata": {
        "colab_type": "code",
        "id": "3mf26PSKVqsm",
        "colab": {}
      },
      "source": [
        "model.fit(x_train_tokens, y_train_encoder, epochs=5, validation_split=0.2)"
      ],
      "execution_count": null,
      "outputs": []
    },
    {
      "cell_type": "markdown",
      "metadata": {
        "colab_type": "text",
        "id": "M_rbEcjeH_fk"
      },
      "source": [
        "## Save model"
      ]
    },
    {
      "cell_type": "code",
      "metadata": {
        "colab_type": "code",
        "id": "rNedQb1VH_Cf",
        "colab": {}
      },
      "source": [
        "import pickle"
      ],
      "execution_count": null,
      "outputs": []
    },
    {
      "cell_type": "code",
      "metadata": {
        "colab_type": "code",
        "id": "gH97MwroINcw",
        "colab": {}
      },
      "source": [
        "with open('tokenizer.pickle', 'wb') as handle:\n",
        "  pickle.dump(tokenizer, handle, protocol=pickle.HIGHEST_PROTOCOL)"
      ],
      "execution_count": null,
      "outputs": []
    },
    {
      "cell_type": "code",
      "metadata": {
        "colab_type": "code",
        "id": "7EYl9MrrIN6X",
        "colab": {}
      },
      "source": [
        "model.save('model.h5')"
      ],
      "execution_count": null,
      "outputs": []
    },
    {
      "cell_type": "markdown",
      "metadata": {
        "colab_type": "text",
        "id": "lzF7AInCIoHe"
      },
      "source": [
        "## Load model"
      ]
    },
    {
      "cell_type": "code",
      "metadata": {
        "colab_type": "code",
        "id": "LX5CvIYBJKAx",
        "colab": {}
      },
      "source": [
        "from tensorflow.python.keras.models import load_model"
      ],
      "execution_count": null,
      "outputs": []
    },
    {
      "cell_type": "code",
      "metadata": {
        "colab_type": "code",
        "id": "EUKI1MCEIq55",
        "colab": {}
      },
      "source": [
        "with open('tokenizer.pickle', 'rb') as handle:\n",
        "    tokenizer = pickle.load(handle)"
      ],
      "execution_count": null,
      "outputs": []
    },
    {
      "cell_type": "code",
      "metadata": {
        "colab_type": "code",
        "id": "_HHO7QtyJGC9",
        "colab": {}
      },
      "source": [
        "model = load_model('model.h5')"
      ],
      "execution_count": null,
      "outputs": []
    },
    {
      "cell_type": "markdown",
      "metadata": {
        "colab_type": "text",
        "id": "75x8tld8D9_-"
      },
      "source": [
        "## Test the model"
      ]
    },
    {
      "cell_type": "code",
      "metadata": {
        "colab_type": "code",
        "id": "3jvDYXxNJBcW",
        "colab": {}
      },
      "source": [
        "x_test_tokens = tokenizer.texts_to_sequences(X_test)\n",
        "x_test_tokens = pad_sequences(x_test_tokens, maxlen=100, padding='pre', truncating='pre')"
      ],
      "execution_count": null,
      "outputs": []
    },
    {
      "cell_type": "code",
      "metadata": {
        "colab_type": "code",
        "id": "dOCI1-YTM-Z-",
        "colab": {}
      },
      "source": [
        "y_test = one_hot_encoder(list(y_test))"
      ],
      "execution_count": null,
      "outputs": []
    },
    {
      "cell_type": "code",
      "metadata": {
        "colab_type": "code",
        "id": "CTeUs76XNC0U",
        "colab": {}
      },
      "source": [
        "scores = model.evaluate(x_test_tokens, y_test, verbose=0)\n",
        "print('Test accuracy:', scores[1])"
      ],
      "execution_count": null,
      "outputs": []
    },
    {
      "cell_type": "markdown",
      "metadata": {
        "colab_type": "text",
        "id": "vDgGGAStD0Z_"
      },
      "source": [
        "## Predict sentence"
      ]
    },
    {
      "cell_type": "code",
      "metadata": {
        "colab_type": "code",
        "id": "KpnSZk4HNGZP",
        "colab": {}
      },
      "source": [
        "def predict(sent):\n",
        "  sent = tokenizer.texts_to_sequences([sent])\n",
        "  sent = pad_sequences(sent, maxlen=100, padding='pre', truncating='pre')\n",
        "  return class_label[int(model.predict_classes(sent))]"
      ],
      "execution_count": null,
      "outputs": []
    },
    {
      "cell_type": "code",
      "metadata": {
        "colab_type": "code",
        "id": "4S1Irq962kEk",
        "colab": {}
      },
      "source": [
        "sent = '''@United rescheduled my return flight from #Japan?  Uh why?  Trying to call #UnitedAirlines #customerservice - 45 min wait.  #fun'''\n",
        "predict(sent)"
      ],
      "execution_count": null,
      "outputs": []
    }
  ]
}